{
 "cells": [
  {
   "cell_type": "code",
   "execution_count": 74,
   "metadata": {
    "scrolled": true
   },
   "outputs": [],
   "source": [
    "import numpy as np\n",
    "import matplotlib.pyplot as plt\n",
    "\n",
    "\n",
    "def PtfixeFonc(alphabar,alpha,phi,i,deltal):\n",
    "\n",
    "    gamma_1 = (np.arange(101)/100)*2*np.pi\n",
    "    gamma_2 = (np.arange(101)/100)*2*np.pi\n",
    "\n",
    "    x = (gamma_1 - gamma_2)/2\n",
    "    y = (gamma_1 + gamma_2)/2\n",
    "\n",
    "    x = (np.arange(301)/300.0)*6*np.pi\n",
    "\n",
    "    y = (np.arange(301)/300.0)*6*np.pi\n",
    "\n",
    "    o = np.ones(len(x))\n",
    "\n",
    "    l_1 = 0.5 + deltal\n",
    "    l_2 = 0.5 - deltal\n",
    "\n",
    "    # Pnts fixes intersection de ces deux equations\n",
    "\n",
    "    LHS = alphabar*phi*o - (i*(l_2-l_1)/2.0)*o -2*alpha*x\n",
    "\n",
    "    RHS = np.sin(x)*(o-(i**2)/(4*(np.cos(x)**2)))\n",
    "\n",
    "    return LHS,RHS,x\n",
    "\n"
   ]
  },
  {
   "cell_type": "code",
   "execution_count": 186,
   "metadata": {},
   "outputs": [
    {
     "name": "stdout",
     "output_type": "stream",
     "text": [
      "0.125\n",
      "0.375\n",
      "0.625\n",
      "0.875\n",
      "1.125\n"
     ]
    },
    {
     "data": {
      "image/png": "[encoded data removed]",
      "text/plain": [
       "<matplotlib.figure.Figure at 0x7f47d294a410>"
      ]
     },
     "metadata": {},
     "output_type": "display_data"
    }
   ],
   "source": [
    "# Variables \n",
    "\n",
    "# i  = I/(2*I_01)   I_01 the critical current for both junctions\n",
    "\n",
    "i = 0.5\n",
    "\n",
    "#  phi  = phi_a/phi_0 with phi_0 the quantum flux\n",
    "\n",
    "phi = 4\n",
    "\n",
    "# alpha = phi_0/(I_01*L*2*PI),  L the total inductance \n",
    "\n",
    "alpha = 2\n",
    "\n",
    "# alphabar = phi_0/(I_01*L)\n",
    "\n",
    "alphabar = alpha*2*np.pi\n",
    "\n",
    "# Omega  = sqrt(I_01*2*pi/(C_1*phi_0)) here C_1 is the capacitance for both junctions, we approcimate them to be the same\n",
    "# we define tau = Omega*t\n",
    "\n",
    "# eta = beta*2*np.sqrt(2*np.pi)/(I_01*C_1*phi_0) = beta*2*Omega/I_01. Here beta ( and thus eta) corresponds to loss.\n",
    "# Since beta corresponds to a loss term and the rest is positive, eta is a positive constant.\n",
    "\n",
    "eta = 0.5\n",
    "\n",
    "# We define gamma_1 la phase pour la jonction 1 et gamma_2 la phase pour la deuxiéme jonction\n",
    "\n",
    "\n",
    "# in function of i\n",
    "\n",
    "phi = 4\n",
    "alpha = 0.5\n",
    "deltal = 0\n",
    "\n",
    "plotnumber = 1\n",
    "\n",
    "\n",
    "plt.figure(plotnumber)\n",
    "\n",
    "phi = 0\n",
    "i = 0\n",
    "deltal = 0\n",
    "\n",
    "LHS,RHS,x = PtfixeFonc(0,0,phi,i,deltal)\n",
    "\n",
    "plt.plot(x,LHS,'g-')\n",
    "\n",
    "for alpha in range(1,10,2):\n",
    "\n",
    "    LHS,RHS,x = PtfixeFonc((alpha*2*np.pi)/8.0,alpha/8.0,phi,i,deltal)\n",
    "\n",
    "    plt.plot(x,LHS,'r-')\n",
    "    \n",
    "    print((alpha/8.00))\n",
    "\n",
    "LHS,RHS,x = PtfixeFonc(150*2*np.pi,150,phi,i,deltal)\n",
    "\n",
    "plt.plot(x,LHS,'y-')\n",
    "\n",
    "plt.plot(x,RHS,'b-')\n",
    "#plt.axis([0, x.max()+1 ,LHS.min()*(1+0.5),LHS.max()*(1+0.5)])\n",
    "plt.axis([0,7,-5,5])\n",
    "plt.title(' Fixed points as a function of\\n' r'$\\alpha$ - yellow for $\\alpha$ = 150  - green for $\\alpha$ = 0 and $i = 0$')\n",
    "plt.xlabel(r'$\\gamma_1 - \\gamma_2$')\n",
    "#plt.savefig('In function of alpha and phi=0,5_i=0_delta=0_zoom.pdf')\n",
    "plt.show()\n"
   ]
  },
  {
   "cell_type": "code",
   "execution_count": null,
   "metadata": {},
   "outputs": [],
   "source": []
  }
 ],
 "metadata": {
  "kernelspec": {
   "display_name": "Python 2",
   "language": "python",
   "name": "python2"
  },
  "language_info": {
   "codemirror_mode": {
    "name": "ipython",
    "version": 2
   },
   "file_extension": ".py",
   "mimetype": "text/x-python",
   "name": "python",
   "nbconvert_exporter": "python",
   "pygments_lexer": "ipython2",
   "version": "2.7.14"
  }
 },
 "nbformat": 4,
 "nbformat_minor": 2
}
